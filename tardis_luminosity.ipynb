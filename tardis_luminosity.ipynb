{
 "metadata": {
  "name": "",
  "signature": "sha256:c9a6b91fb0d0f71027e2daf28c1362de2068ff9db5e905f8bad7e414c13a88ca"
 },
 "nbformat": 3,
 "nbformat_minor": 0,
 "worksheets": [
  {
   "cells": [
    {
     "cell_type": "markdown",
     "metadata": {},
     "source": [
      "<h1>A Study of TARDIS' Luminosity Convergence</h1>"
     ]
    },
    {
     "cell_type": "markdown",
     "metadata": {},
     "source": [
      "We want to take a look at how well the integrated luminosity from a TARDIS simulated spectrum achieves a given target luminosity. \n",
      "\n",
      "<h2>Method</h2>\n",
      "\n",
      "* Naive runs\n",
      "* Trying 40 iterations"
     ]
    },
    {
     "cell_type": "code",
     "collapsed": false,
     "input": [],
     "language": "python",
     "metadata": {},
     "outputs": []
    }
   ],
   "metadata": {}
  }
 ]
}